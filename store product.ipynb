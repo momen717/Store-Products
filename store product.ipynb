{
 "cells": [
  {
   "cell_type": "markdown",
   "metadata": {},
   "source": [
    "# Store Product Project\n",
    "\n",
    "In this project, we will design a system for a store that sells different products. The required tasks and classes are:\n",
    "\n",
    "- ```Product```: Resembles a product in the store. We need to know the name, code, price and available quantity of the product.\n",
    "\n",
    "- ```Order```: An order of products. It has customer name, product types and quantities, order date and total price.\n",
    "\n",
    "- ```Store```: This is our store. It should hold an inventory of products and a record of orders, as well as functions to add new products, make an order, show an order and show available products."
   ]
  },
  {
   "cell_type": "code",
   "execution_count": 4,
   "metadata": {
    "ExecuteTime": {
     "end_time": "2023-11-04T11:23:31.313894Z",
     "start_time": "2023-11-04T11:23:31.292512Z"
    }
   },
   "outputs": [],
   "source": [
    "class Product:\n",
    "    def __init__(self, code, name, price):\n",
    "        self.code = code\n",
    "        self.name = name\n",
    "        self.price = price\n",
    "        self.quantity = 0\n",
    "        \n",
    "    def add_quantity(self, value):\n",
    "        self.quantity += value\n",
    "        \n",
    "    def remove_quantity(self, value):\n",
    "        if value > self.quantity:\n",
    "            print(\"Error: Quantity unavailable in stock\")\n",
    "        else:\n",
    "            self.quantity -= value"
   ]
  },
  {
   "cell_type": "code",
   "execution_count": 5,
   "metadata": {
    "ExecuteTime": {
     "end_time": "2023-11-04T11:23:31.703621Z",
     "start_time": "2023-11-04T11:23:31.661797Z"
    }
   },
   "outputs": [],
   "source": [
    "from datetime import datetime\n",
    "\n",
    "class Order:\n",
    "    def __init__(self, id, customer):\n",
    "        self.id = id\n",
    "        self.customer = customer\n",
    "        \n",
    "        self.products = []\n",
    "        self.date = datetime.now()\n",
    "        \n",
    "    def add_product(self, product, quantity):\n",
    "        self.products.append((product, quantity))\n",
    "        \n",
    "    def get_total_price(self):\n",
    "        total_price = 0\n",
    "        \n",
    "        for product, quantity in self.products:\n",
    "            price = product.price * quantity\n",
    "            total_price += price\n",
    "            \n",
    "        return total_price\n",
    "    \n",
    "    def show_order(self):\n",
    "        print(f\"Order number: {self.id} - Customer name: {self.customer}\\n\")\n",
    "        print(\"Products:\")\n",
    "        for product, quantity in self.products: \n",
    "            print(f\"\\tProduct name: {product.name} - Quantity: {quantity}\")\n",
    "        print(f\"\\nTotal price: {self.get_total_price()}\")"
   ]
  },
  {
   "cell_type": "code",
   "execution_count": 13,
   "metadata": {
    "ExecuteTime": {
     "end_time": "2023-11-04T11:41:57.742809Z",
     "start_time": "2023-11-04T11:41:57.721608Z"
    }
   },
   "outputs": [],
   "source": [
    "class Store:\n",
    "    def __init__(self):\n",
    "        self.inventory = []\n",
    "        self.orders = []\n",
    "        \n",
    "    def add_product(self, code, name, price, quantity):\n",
    "        new_product = Product(code, name, price)\n",
    "        new_product.add_quantity(quantity)\n",
    "        \n",
    "        self.inventory.append(new_product)\n",
    "        \n",
    "    def show_products(self):\n",
    "        print(\"Available products:\")\n",
    "        \n",
    "        for product in self.inventory:\n",
    "            print(f\"\"\"Code: {product.code} \\t Name: {product.name} \\t Price: {product.price} \\t Quantity: {product.quantity}\\n\"\"\")\n",
    "            \n",
    "    def make_order(self, id, customer):\n",
    "        order = Order(id, customer)\n",
    "        \n",
    "        running = True\n",
    "        while running:\n",
    "            code = input(\"Enter product code: \")\n",
    "            quantity = int(input(\"Enter quantity: \"))\n",
    "            \n",
    "            for product in self.inventory:\n",
    "                if product.code == code:\n",
    "                    order.add_product(product, quantity)\n",
    "                    product.remove_quantity(quantity)\n",
    "                    break\n",
    "                    \n",
    "            choice = input(\"Do you want to add another product (y/n)?\")\n",
    "            if choice == 'n':\n",
    "                running = False\n",
    "        \n",
    "        self.orders.append(order)\n",
    "        \n",
    "    def show_order(self):\n",
    "        ids = list(map(lambda order: order.id, self.orders))\n",
    "        print(f\"Available orders: {ids}\")\n",
    "        \n",
    "        id = int(input(\"Choose order id: \"))\n",
    "        \n",
    "        for order in self.orders:\n",
    "            if order.id == id:\n",
    "                order.show_order()\n",
    "                break\n",
    "                \n",
    "    "
   ]
  },
  {
   "cell_type": "code",
   "execution_count": 14,
   "metadata": {
    "ExecuteTime": {
     "end_time": "2023-11-04T11:41:58.052984Z",
     "start_time": "2023-11-04T11:41:58.025460Z"
    }
   },
   "outputs": [
    {
     "name": "stdout",
     "output_type": "stream",
     "text": [
      "Available products:\n",
      "Code: 100 \t Name: apple \t Price: 5.99 \t Quantity: 15\n",
      "\n",
      "Code: 101 \t Name: pasta \t Price: 6.99 \t Quantity: 20\n",
      "\n",
      "Code: 102 \t Name: chips \t Price: 3.99 \t Quantity: 30\n",
      "\n",
      "Code: 103 \t Name: cola \t Price: 8.99 \t Quantity: 10\n",
      "\n"
     ]
    }
   ],
   "source": [
    "market = Store()\n",
    "\n",
    "names = ['apple', 'pasta', 'chips', 'cola']\n",
    "prices = [5.99, 6.99, 3.99, 8.99] \n",
    "code = ['100', '101', '102', '103']\n",
    "quantities = [15, 20, 30, 10]\n",
    "\n",
    "for n, p, c, q in zip(names, prices, code, quantities):\n",
    "    market.add_product(c, n, p, q)\n",
    "    \n",
    "market.show_products()"
   ]
  },
  {
   "cell_type": "code",
   "execution_count": 16,
   "metadata": {
    "ExecuteTime": {
     "end_time": "2023-11-04T11:45:43.214611Z",
     "start_time": "2023-11-04T11:43:22.739378Z"
    }
   },
   "outputs": [
    {
     "name": "stdout",
     "output_type": "stream",
     "text": [
      "\n",
      "    \n",
      "Welcome to our supermarket! Please choose an option:\n",
      "    1. Show all products\n",
      "    2. Make an order\n",
      "    3. Show order information\n",
      "    4. Add a new product\n",
      "    5. Exit\n",
      "\n",
      "    \n",
      "Enter your choice: 4\n",
      "Enter new product code: 105\n",
      "Enter new product name: tomato\n",
      "Enter new product price: 4.5\n",
      "Enter new product quantity: 20\n",
      "\n",
      "    \n",
      "Welcome to our supermarket! Please choose an option:\n",
      "    1. Show all products\n",
      "    2. Make an order\n",
      "    3. Show order information\n",
      "    4. Add a new product\n",
      "    5. Exit\n",
      "\n",
      "    \n",
      "Enter your choice: 1\n",
      "Available products:\n",
      "Code: 100 \t Name: apple \t Price: 5.99 \t Quantity: 15\n",
      "\n",
      "Code: 101 \t Name: pasta \t Price: 6.99 \t Quantity: 13\n",
      "\n",
      "Code: 102 \t Name: chips \t Price: 3.99 \t Quantity: 20\n",
      "\n",
      "Code: 103 \t Name: cola \t Price: 8.99 \t Quantity: 10\n",
      "\n",
      "Code: 105 \t Name: tomato \t Price: 4.5 \t Quantity: 20\n",
      "\n",
      "\n",
      "    \n",
      "Welcome to our supermarket! Please choose an option:\n",
      "    1. Show all products\n",
      "    2. Make an order\n",
      "    3. Show order information\n",
      "    4. Add a new product\n",
      "    5. Exit\n",
      "\n",
      "    \n",
      "Enter your choice: 5\n",
      "Goodbye\n"
     ]
    }
   ],
   "source": [
    "while True:\n",
    "    print(\"\"\"\n",
    "    \\nWelcome to our supermarket! Please choose an option:\n",
    "    1. Show all products\n",
    "    2. Make an order\n",
    "    3. Show order information\n",
    "    4. Add a new product\n",
    "    5. Exit\\n\n",
    "    \"\"\")\n",
    "    \n",
    "    choice = int(input(\"Enter your choice: \"))\n",
    "    \n",
    "    if choice == 1:\n",
    "        market.show_products()\n",
    "    \n",
    "    elif choice == 2:\n",
    "        customer = input(\"Enter your name: \")\n",
    "        id = int(input(\"Enter order id: \"))\n",
    "        \n",
    "        market.make_order(id, customer)\n",
    "        \n",
    "    elif choice == 3:\n",
    "        market.show_order()\n",
    "        \n",
    "    elif choice == 4:\n",
    "        code = input(\"Enter new product code: \")\n",
    "        name = input(\"Enter new product name: \")\n",
    "        price = float(input(\"Enter new product price: \"))\n",
    "        quantity = int(input(\"Enter new product quantity: \"))\n",
    "        \n",
    "        market.add_product(code, name, price, quantity)\n",
    "    \n",
    "    elif choice == 5:\n",
    "        print(\"Goodbye\")\n",
    "        break\n",
    "    \n",
    "    else:\n",
    "        print(\"Invalid input. Please try again.\")"
   ]
  },
  {
   "cell_type": "code",
   "execution_count": 19,
   "metadata": {
    "ExecuteTime": {
     "end_time": "2023-11-04T11:46:45.004941Z",
     "start_time": "2023-11-04T11:46:44.982679Z"
    }
   },
   "outputs": [
    {
     "data": {
      "text/plain": [
       "['__add__',\n",
       " '__class__',\n",
       " '__delattr__',\n",
       " '__dir__',\n",
       " '__doc__',\n",
       " '__eq__',\n",
       " '__format__',\n",
       " '__ge__',\n",
       " '__getattribute__',\n",
       " '__gt__',\n",
       " '__hash__',\n",
       " '__init__',\n",
       " '__init_subclass__',\n",
       " '__le__',\n",
       " '__lt__',\n",
       " '__ne__',\n",
       " '__new__',\n",
       " '__radd__',\n",
       " '__reduce__',\n",
       " '__reduce_ex__',\n",
       " '__repr__',\n",
       " '__rsub__',\n",
       " '__setattr__',\n",
       " '__sizeof__',\n",
       " '__str__',\n",
       " '__sub__',\n",
       " '__subclasshook__',\n",
       " 'astimezone',\n",
       " 'combine',\n",
       " 'ctime',\n",
       " 'date',\n",
       " 'day',\n",
       " 'dst',\n",
       " 'fold',\n",
       " 'fromisocalendar',\n",
       " 'fromisoformat',\n",
       " 'fromordinal',\n",
       " 'fromtimestamp',\n",
       " 'hour',\n",
       " 'isocalendar',\n",
       " 'isoformat',\n",
       " 'isoweekday',\n",
       " 'max',\n",
       " 'microsecond',\n",
       " 'min',\n",
       " 'minute',\n",
       " 'month',\n",
       " 'now',\n",
       " 'replace',\n",
       " 'resolution',\n",
       " 'second',\n",
       " 'strftime',\n",
       " 'strptime',\n",
       " 'time',\n",
       " 'timestamp',\n",
       " 'timetuple',\n",
       " 'timetz',\n",
       " 'today',\n",
       " 'toordinal',\n",
       " 'tzinfo',\n",
       " 'tzname',\n",
       " 'utcfromtimestamp',\n",
       " 'utcnow',\n",
       " 'utcoffset',\n",
       " 'utctimetuple',\n",
       " 'weekday',\n",
       " 'year']"
      ]
     },
     "execution_count": 19,
     "metadata": {},
     "output_type": "execute_result"
    }
   ],
   "source": [
    "dir(datetime)"
   ]
  },
  {
   "cell_type": "markdown",
   "metadata": {},
   "source": [
    "## Great job!"
   ]
  },
  {
   "cell_type": "code",
   "execution_count": null,
   "metadata": {},
   "outputs": [],
   "source": []
  }
 ],
 "metadata": {
  "kernelspec": {
   "display_name": "Python 3 (ipykernel)",
   "language": "python",
   "name": "python3"
  },
  "language_info": {
   "codemirror_mode": {
    "name": "ipython",
    "version": 3
   },
   "file_extension": ".py",
   "mimetype": "text/x-python",
   "name": "python",
   "nbconvert_exporter": "python",
   "pygments_lexer": "ipython3",
   "version": "3.11.3"
  }
 },
 "nbformat": 4,
 "nbformat_minor": 2
}
